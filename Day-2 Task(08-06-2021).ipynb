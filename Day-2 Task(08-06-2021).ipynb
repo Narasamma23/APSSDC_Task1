{
 "cells": [
  {
   "cell_type": "markdown",
   "metadata": {},
   "source": [
    "## Task:\n",
    "- Write a program to check wheather the user eligible for vote or not\n",
    "- Check the given number is positive or negative\n",
    "- Check the given number is even or odd if it's even check which is divisible by 4 or not\n",
    "- Write a program to print student grade based on percentage like Distniction pass or fail\n",
    "- Check the given year is Leap or not"
   ]
  },
  {
   "cell_type": "markdown",
   "metadata": {},
   "source": [
    "# 1.Write a program to check wheather the user eligible for vote or not"
   ]
  },
  {
   "cell_type": "code",
   "execution_count": 1,
   "metadata": {},
   "outputs": [
    {
     "name": "stdout",
     "output_type": "stream",
     "text": [
      "Enter Age : 30\n",
      "The user is eligible for voting\n"
     ]
    }
   ],
   "source": [
    "#To Check wheather the user eligible for vote or not\n",
    "age = int(input(\"Enter Age : \"))\n",
    "\n",
    "if age >= 18 :\n",
    "    print(\"The user is eligible for voting\")\n",
    "else:\n",
    "    print(\"The user is not eligible for voting\")\n"
   ]
  },
  {
   "cell_type": "markdown",
   "metadata": {},
   "source": [
    "# 2. Check the given number is positive or negative"
   ]
  },
  {
   "cell_type": "code",
   "execution_count": 2,
   "metadata": {},
   "outputs": [
    {
     "name": "stdout",
     "output_type": "stream",
     "text": [
      "Enter Number: -89\n",
      "The given number is negative number\n"
     ]
    }
   ],
   "source": [
    "# Check the given number is positive or negative\n",
    "number = int(input('Enter Number: '))\n",
    "\n",
    "if number >= 0 :\n",
    "    print(\"The given number is positive number\")\n",
    "else:\n",
    "    print(\"The given number is negative number\")"
   ]
  },
  {
   "cell_type": "markdown",
   "metadata": {},
   "source": [
    "## 3.Check the given number is even or odd if it's even check which is divisible by 4 or not\n"
   ]
  },
  {
   "cell_type": "code",
   "execution_count": 3,
   "metadata": {},
   "outputs": [
    {
     "name": "stdout",
     "output_type": "stream",
     "text": [
      "Enter Number: 6\n",
      "The given number is even\n",
      "The given number is even and not divisible by 4\n"
     ]
    }
   ],
   "source": [
    "# To Check the given number is even or odd if it's even check which is divisible by 4 or not\n",
    "n = int(input(\"Enter Number: \"))\n",
    "\n",
    "if n%2 == 0 :\n",
    "    print(\"The given number is even\")\n",
    "    if n% 4 == 0:\n",
    "        print(\"The given number is even and divisible by 4\")\n",
    "    else:\n",
    "        print(\"The given number is even and not divisible by 4\")\n",
    "else:\n",
    "    print(\"The given number is odd\")"
   ]
  },
  {
   "cell_type": "markdown",
   "metadata": {},
   "source": [
    "### 4. Write a program to print student grade based on percentage like Distniction pass or fail"
   ]
  },
  {
   "cell_type": "code",
   "execution_count": 6,
   "metadata": {},
   "outputs": [
    {
     "name": "stdout",
     "output_type": "stream",
     "text": [
      "Enter no.of Subjects: 4\n",
      "Enter marks of 4 Subjects\n",
      "Enter Marks of the subjects 80\n",
      "Enter Marks of the subjects 89\n",
      "Enter Marks of the subjects 78\n",
      "Enter Marks of the subjects 65\n",
      "The Percentage of all subjects is : 78.0\n",
      "Passed\n"
     ]
    }
   ],
   "source": [
    "# To print student grade based on percentage like Distniction pass or fail\n",
    "n = int(input(\"Enter no.of Subjects: \"))\n",
    "sum = 0\n",
    "i = 0\n",
    "per = 0\n",
    "print(\"Enter marks of {}\".format(n) + \" Subjects\")\n",
    "for i in range (1, n+1):\n",
    "    marks = int(input(\"Enter Marks of the subjects \"))\n",
    "    sum = sum + marks\n",
    "per = sum*100/(n*100)\n",
    "print(\"The Percentage of all subjects is :\", per)\n",
    "if(per>=90):\n",
    "    print(\"distinction pass\")\n",
    "elif(per>=50):\n",
    "    print(\"Passed\")\n",
    "else:\n",
    "    print(\"Fail\")\n",
    "\n",
    "    \n",
    "    "
   ]
  },
  {
   "cell_type": "markdown",
   "metadata": {},
   "source": [
    "# 5.Check the given year is Leap or not "
   ]
  },
  {
   "cell_type": "code",
   "execution_count": 7,
   "metadata": {},
   "outputs": [
    {
     "name": "stdout",
     "output_type": "stream",
     "text": [
      "Enter a year: 1980\n",
      "The given year is a leap year\n"
     ]
    }
   ],
   "source": [
    "# To Check the given year is Leap or not\n",
    "\n",
    "a = int(input(\"Enter a year: \"))\n",
    "if(a % 4) == 0:\n",
    "    if(a % 100) == 0:\n",
    "        if(a % 400) == 0:\n",
    "            print(\"The given year is a leap year\")\n",
    "        else:\n",
    "            print(\"The given year is not a leap year\")\n",
    "    else:\n",
    "        print(\"The given year is a leap year\")\n",
    "else:\n",
    "    print(\"The given year is not a leap year\")\n",
    "\n"
   ]
  },
  {
   "cell_type": "code",
   "execution_count": null,
   "metadata": {},
   "outputs": [],
   "source": []
  }
 ],
 "metadata": {
  "kernelspec": {
   "display_name": "Python 3",
   "language": "python",
   "name": "python3"
  },
  "language_info": {
   "codemirror_mode": {
    "name": "ipython",
    "version": 3
   },
   "file_extension": ".py",
   "mimetype": "text/x-python",
   "name": "python",
   "nbconvert_exporter": "python",
   "pygments_lexer": "ipython3",
   "version": "3.7.4"
  }
 },
 "nbformat": 4,
 "nbformat_minor": 2
}
