{
 "cells": [
  {
   "cell_type": "markdown",
   "metadata": {},
   "source": [
    "## Task\n",
    "- Write a program in module\n",
    "- ask the user to enter the data\n",
    "- check the data if it's camelcase print Like (Thumbsup)emoji\n",
    "- else convert the data into camelcase then speakout Successfully converted your data into camel case 1"
   ]
  },
  {
   "cell_type": "code",
   "execution_count": 1,
   "metadata": {},
   "outputs": [
    {
     "name": "stdout",
     "output_type": "stream",
     "text": [
      "Enter yourdata: narsi is good girl\n",
      "The coverted data is:  Narsi is Good Girl\n"
     ]
    }
   ],
   "source": [
    "import modules2\n",
    "modules2.camelcasecon()"
   ]
  },
  {
   "cell_type": "code",
   "execution_count": 2,
   "metadata": {},
   "outputs": [
    {
     "name": "stdout",
     "output_type": "stream",
     "text": [
      "Enter yourdata: Narsi\n",
      "👍\n"
     ]
    }
   ],
   "source": [
    "import modules2\n",
    "modules2.camelcasecon()\n"
   ]
  }
 ],
 "metadata": {
  "kernelspec": {
   "display_name": "Python 3",
   "language": "python",
   "name": "python3"
  },
  "language_info": {
   "codemirror_mode": {
    "name": "ipython",
    "version": 3
   },
   "file_extension": ".py",
   "mimetype": "text/x-python",
   "name": "python",
   "nbconvert_exporter": "python",
   "pygments_lexer": "ipython3",
   "version": "3.7.4"
  }
 },
 "nbformat": 4,
 "nbformat_minor": 2
}
