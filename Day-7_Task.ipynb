{
 "cells": [
  {
   "cell_type": "markdown",
   "metadata": {},
   "source": [
    "## 1. Write a pattern to display 4 digit numbers from list"
   ]
  },
  {
   "cell_type": "code",
   "execution_count": 2,
   "metadata": {},
   "outputs": [
    {
     "name": "stdout",
     "output_type": "stream",
     "text": [
      "4545\n",
      "1234\n",
      "8989\n"
     ]
    }
   ],
   "source": [
    "# Method 1\n",
    "import re\n",
    "list1 = {\"388\",\"78934903\",\"345678\",\"1234\",\"675\",\"87878\",\"4545\",\"8989\"}\n",
    "for i in list1:\n",
    "    if re.findall('^[0-9]{4}$',i):\n",
    "        print(i)"
   ]
  },
  {
   "cell_type": "code",
   "execution_count": 8,
   "metadata": {},
   "outputs": [
    {
     "name": "stdout",
     "output_type": "stream",
     "text": [
      "Enter no.of elements for list: 8\n",
      "123456789\n",
      "2345678\n",
      "34567\n",
      "3456\n",
      "456\n",
      "5\n",
      "45\n",
      "2323\n",
      "The List is:  ['123456789', '2345678', '34567', '3456', '456', '5', '45', '2323']\n",
      "The Four digits numbers from the list are : \n",
      "3456 \t2323 \t"
     ]
    }
   ],
   "source": [
    "# Method 2\n",
    "l1 = []\n",
    "n = int(input(\"Enter no.of elements for list: \"))\n",
    "for i in range(n):\n",
    "    a = input()\n",
    "    l1.append(a)\n",
    "print(\"The List is: \",l1)\n",
    "\n",
    "import re\n",
    "print(\"The Four digits numbers from the list are : \")\n",
    "for i in l1:\n",
    "    if re.findall('^[0-9]{4}$',i):\n",
    "        print(i, end =\" \\t\")"
   ]
  },
  {
   "cell_type": "markdown",
   "metadata": {},
   "source": [
    "## 2. Validate a phone number using patterns"
   ]
  },
  {
   "cell_type": "code",
   "execution_count": 4,
   "metadata": {},
   "outputs": [
    {
     "name": "stdout",
     "output_type": "stream",
     "text": [
      "9247888485\n",
      "8688532726\n",
      "7207201571\n"
     ]
    }
   ],
   "source": [
    "# Method1\n",
    "import re\n",
    "ph_list = [\"9247888485\",\"8688532726\",\"7207201571\",\"789654\",\"1234567890\"]\n",
    "for i in ph_list:\n",
    "    if re.findall('[6-9]{1}[0-9]{9}$',i):\n",
    "        print(i)"
   ]
  },
  {
   "cell_type": "code",
   "execution_count": 11,
   "metadata": {},
   "outputs": [
    {
     "name": "stdout",
     "output_type": "stream",
     "text": [
      "Enter no.of elements for list: 7\n",
      "1234567890\n",
      "7207201571\n",
      "8688532726\n",
      "868852\n",
      "63015678901\n",
      "9295357875\n",
      "324576980\n",
      "The List is:  ['1234567890', '7207201571', '8688532726', '868852', '63015678901', '9295357875', '324576980']\n",
      "The Validate phone numbers from the list are : \n",
      "7207201571\n",
      "8688532726\n",
      "9295357875\n"
     ]
    }
   ],
   "source": [
    "# Method 2\n",
    "ph_list = []\n",
    "n = int(input(\"Enter no.of elements for list: \"))\n",
    "for i in range(n):\n",
    "    a = input()\n",
    "    ph_list.append(a)\n",
    "print(\"The List is: \",ph_list)\n",
    "\n",
    "import re\n",
    "print(\"The Validate phone numbers from the list are : \")\n",
    "for i in ph_list:\n",
    "    if re.findall('[6-9]{1}[0-9]{9}$',i):\n",
    "        print(i)\n",
    "\n"
   ]
  },
  {
   "cell_type": "code",
   "execution_count": null,
   "metadata": {},
   "outputs": [],
   "source": []
  }
 ],
 "metadata": {
  "kernelspec": {
   "display_name": "Python 3",
   "language": "python",
   "name": "python3"
  },
  "language_info": {
   "codemirror_mode": {
    "name": "ipython",
    "version": 3
   },
   "file_extension": ".py",
   "mimetype": "text/x-python",
   "name": "python",
   "nbconvert_exporter": "python",
   "pygments_lexer": "ipython3",
   "version": "3.7.4"
  }
 },
 "nbformat": 4,
 "nbformat_minor": 2
}
